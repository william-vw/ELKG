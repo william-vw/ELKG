{
 "cells": [
  {
   "cell_type": "markdown",
   "metadata": {},
   "source": [
    "# Event Log Knowledge Graph (ELKG)"
   ]
  },
  {
   "cell_type": "markdown",
   "metadata": {},
   "source": [
    "See `requirements.txt` for required dependencies.  \n",
    "You can install the latest `eye` reasoner from https://github.com/eyereasoner/eye/tags."
   ]
  },
  {
   "cell_type": "code",
   "execution_count": null,
   "metadata": {},
   "outputs": [],
   "source": [
    "import pm4py\n",
    "import pandas as pd\n",
    "import subprocess\n",
    "\n",
    "from rdflib import Namespace"
   ]
  },
  {
   "cell_type": "markdown",
   "metadata": {},
   "source": [
    "## CCEL (XES)"
   ]
  },
  {
   "cell_type": "code",
   "execution_count": null,
   "metadata": {},
   "outputs": [],
   "source": [
    "# - load XES\n",
    "\n",
    "log = pm4py.read_xes(\"logs/xes/sepsis.xes\")"
   ]
  },
  {
   "cell_type": "markdown",
   "metadata": {},
   "source": [
    "### Convert XES into ELKG"
   ]
  },
  {
   "cell_type": "code",
   "execution_count": null,
   "metadata": {},
   "outputs": [],
   "source": [
    "from convert_log import convert_xes_rdf, RdfRepresent\n",
    "\n",
    "convert_xes_rdf(log, \"logs/xes/sepsis.ttl\", Namespace(\"http://dutch.hospital.nl/sepsis#\"), RdfRepresent.LINK_PRED)"
   ]
  },
  {
   "cell_type": "markdown",
   "metadata": {},
   "source": [
    "### Test queries"
   ]
  },
  {
   "cell_type": "code",
   "execution_count": null,
   "metadata": {},
   "outputs": [],
   "source": [
    "def run_query(query_file):\n",
    "    cmd = f\"eye n3/pqn.n3 --turtle logs/xes/sepsis.ttl --nope --query n3/queries/{query_file}\"\n",
    "    subprocess.run(cmd.split(\" \")) "
   ]
  },
  {
   "cell_type": "code",
   "execution_count": null,
   "metadata": {},
   "outputs": [],
   "source": [
    "# - get traces based on activity occurrence, sequential relations, and arbitrary constraints\n",
    "\n",
    "run_query(\"sepsis_query.n3\")"
   ]
  },
  {
   "cell_type": "markdown",
   "metadata": {},
   "source": [
    "## OCEL2"
   ]
  },
  {
   "cell_type": "code",
   "execution_count": null,
   "metadata": {},
   "outputs": [],
   "source": [
    "# - load OCEL2\n",
    "\n",
    "log = pm4py.read_ocel2(\"logs/ocel2/ocel2-p2p.xml\")"
   ]
  },
  {
   "cell_type": "markdown",
   "metadata": {},
   "source": [
    "### Convert OCEL2 log into ELKG"
   ]
  },
  {
   "cell_type": "code",
   "execution_count": null,
   "metadata": {},
   "outputs": [],
   "source": [
    "from convert_log import convert_ocel2_rdf\n",
    "\n",
    "# (full log)\n",
    "convert_ocel2_rdf(log, \"logs/ocel2/ocel2-p2p.ttl\", Namespace(\"http://ocel2.org/p2p#\"))\n",
    "# # (log subset with 5000 events)\n",
    "# convert_ocel2_rdf(log, \"logs/ocel2/ocel2-p2p-5000.ttl\", Namespace(\"http://ocel2.org/p2p#\"), 5000)\n",
    "# # (log subset with 10000 events)\n",
    "# convert_ocel2_rdf(log, \"logs/ocel2/ocel2-p2p-10000.ttl\", Namespace(\"http://ocel2.org/p2p#\"), 10000)"
   ]
  },
  {
   "cell_type": "markdown",
   "metadata": {},
   "source": [
    "### Flatten based on perspective"
   ]
  },
  {
   "cell_type": "code",
   "execution_count": null,
   "metadata": {},
   "outputs": [],
   "source": [
    "\n",
    "# - extract traces from ELKG using perspective (defined in traces_query.n3)\n",
    "\n",
    "cmd = \"eye n3/sort.n3 n3/traces/traces_collect.n3 --turtle logs/ocel2/ocel2-p2p.ttl --query n3/traces/traces_query.n3 --nope --skolem-genid trace\"\n",
    "\n",
    "with open(\"logs/ocel2/ocel2-p2p-traces.ttl\", \"w\") as out_file: # file to store traces\n",
    "    subprocess.run(cmd.split(\" \"), stdout=out_file) "
   ]
  },
  {
   "cell_type": "markdown",
   "metadata": {},
   "source": [
    "### Test queries"
   ]
  },
  {
   "cell_type": "code",
   "execution_count": null,
   "metadata": {},
   "outputs": [],
   "source": [
    "def run_query(query_file):\n",
    "    cmd = f\"eye n3/pqn.n3 --turtle logs/ocel2/ocel2-p2p-expanded.ttl --nope --query n3/queries/{query_file}\"\n",
    "    subprocess.run(cmd.split(\" \")) "
   ]
  },
  {
   "cell_type": "code",
   "execution_count": null,
   "metadata": {},
   "outputs": [],
   "source": [
    "# - get all events and their activities in a trace\n",
    "# (n3/queries/trace_activities_query.n3)\n",
    "\n",
    "# use to check traces in query output.\n",
    "# e.g., to lookup trace t_1, update trace ID in n3/queries/trace_activities_query.n3\n",
    "# and run code below\n",
    "\n",
    "run_query(\"trace_activities_query.n3\")"
   ]
  },
  {
   "cell_type": "code",
   "execution_count": null,
   "metadata": {},
   "outputs": [],
   "source": [
    "# - maverick buying\n",
    "\n",
    "run_query(\"p2p_mav_buying1.n3\")"
   ]
  },
  {
   "cell_type": "code",
   "execution_count": null,
   "metadata": {},
   "outputs": [],
   "source": [
    "# - maverick buying (2)\n",
    "\n",
    "# (nothing found!)\n",
    "run_query(\"p2p_mav_buying2.n3\")"
   ]
  },
  {
   "cell_type": "code",
   "execution_count": null,
   "metadata": {},
   "outputs": [],
   "source": [
    "# - duplicate payments\n",
    "\n",
    "run_query(\"p2p_duplic_paym.n3\")"
   ]
  },
  {
   "cell_type": "code",
   "execution_count": null,
   "metadata": {},
   "outputs": [],
   "source": [
    "# - lengthy approval process\n",
    "\n",
    "run_query(\"p2p_long_po_approv.n3\")"
   ]
  }
 ],
 "metadata": {
  "kernelspec": {
   "display_name": "base",
   "language": "python",
   "name": "python3"
  },
  "language_info": {
   "codemirror_mode": {
    "name": "ipython",
    "version": 3
   },
   "file_extension": ".py",
   "mimetype": "text/x-python",
   "name": "python",
   "nbconvert_exporter": "python",
   "pygments_lexer": "ipython3",
   "version": "3.11.5"
  },
  "orig_nbformat": 4
 },
 "nbformat": 4,
 "nbformat_minor": 2
}
