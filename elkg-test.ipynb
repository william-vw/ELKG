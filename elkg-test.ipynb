{
 "cells": [
  {
   "cell_type": "markdown",
   "metadata": {},
   "source": [
    "# Event Log Knowledge Graph (ELKG)"
   ]
  },
  {
   "cell_type": "markdown",
   "metadata": {},
   "source": [
    "See `requirements.txt` for required dependencies.  \n",
    "You can install the latest `eye` reasoner from https://github.com/eyereasoner/eye/tags."
   ]
  },
  {
   "cell_type": "code",
   "execution_count": 1,
   "metadata": {},
   "outputs": [],
   "source": [
    "import pm4py\n",
    "import pandas as pd\n",
    "import subprocess\n",
    "\n",
    "from rdflib import Namespace"
   ]
  },
  {
   "cell_type": "markdown",
   "metadata": {},
   "source": [
    "## CCEL (XES)"
   ]
  },
  {
   "cell_type": "markdown",
   "metadata": {},
   "source": [
    "### Convert XES into ELKG\n",
    "\n",
    "**(needs to be done only once!)**"
   ]
  },
  {
   "cell_type": "code",
   "execution_count": null,
   "metadata": {},
   "outputs": [],
   "source": [
    "# - load XES\n",
    "\n",
    "log = pm4py.read_xes(\"logs/xes/sepsis.xes\")"
   ]
  },
  {
   "cell_type": "code",
   "execution_count": null,
   "metadata": {},
   "outputs": [],
   "source": [
    "# - convert XES to RDF\n",
    "\n",
    "from convert_log import convert_xes_rdf, RdfRepresent\n",
    "\n",
    "convert_xes_rdf(log, \"logs/xes/sepsis.ttl\", Namespace(\"http://dutch.hospital.nl/sepsis#\"), RdfRepresent.LINK_PRED)"
   ]
  },
  {
   "cell_type": "markdown",
   "metadata": {},
   "source": [
    "### Test queries"
   ]
  },
  {
   "cell_type": "code",
   "execution_count": null,
   "metadata": {},
   "outputs": [],
   "source": [
    "def run_query(query_file):\n",
    "    cmd = f\"eye n3/pqn.n3 --turtle logs/xes/sepsis.ttl --nope --query n3/queries/{query_file}\"\n",
    "    subprocess.run(cmd.split(\" \")) "
   ]
  },
  {
   "cell_type": "code",
   "execution_count": null,
   "metadata": {},
   "outputs": [],
   "source": [
    "# - get traces based on activity occurrence, sequential relations, and arbitrary constraints\n",
    "\n",
    "run_query(\"sepsis_query.n3\")"
   ]
  },
  {
   "cell_type": "markdown",
   "metadata": {},
   "source": [
    "## OCEL2"
   ]
  },
  {
   "cell_type": "markdown",
   "metadata": {},
   "source": [
    "### Convert OCEL2 log into ELKG"
   ]
  },
  {
   "cell_type": "code",
   "execution_count": null,
   "metadata": {},
   "outputs": [],
   "source": [
    "# - load OCEL2\n",
    "\n",
    "log = pm4py.read_ocel2(\"logs/ocel2/ocel2-p2p.xml\")"
   ]
  },
  {
   "cell_type": "code",
   "execution_count": null,
   "metadata": {},
   "outputs": [],
   "source": [
    "# - convert OCEL2 to RDF\n",
    "\n",
    "from convert_log import convert_ocel2_rdf\n",
    "\n",
    "# (full log)\n",
    "convert_ocel2_rdf(log, \"logs/ocel2/ocel2-p2p.ttl\", Namespace(\"http://ocel2.org/p2p#\"))\n",
    "# # (log subset with 5000 events)\n",
    "# convert_ocel2_rdf(log, \"logs/ocel2/ocel2-p2p-5000.ttl\", Namespace(\"http://ocel2.org/p2p#\"), 5000)\n",
    "# # (log subset with 10000 events)\n",
    "# convert_ocel2_rdf(log, \"logs/ocel2/ocel2-p2p-10000.ttl\", Namespace(\"http://ocel2.org/p2p#\"), 10000)"
   ]
  },
  {
   "cell_type": "markdown",
   "metadata": {},
   "source": [
    "#### Flatten based on perspective"
   ]
  },
  {
   "cell_type": "code",
   "execution_count": null,
   "metadata": {},
   "outputs": [],
   "source": [
    "# - extract traces from ELKG using perspective (defined in traces_query.n3)\n",
    "\n",
    "cmd = \"eye n3/sort.n3 n3/traces/traces_collect.n3 --turtle logs/ocel2/ocel2-p2p.ttl --query n3/traces/traces_query.n3 --nope --skolem-genid trace\"\n",
    "\n",
    "with open(\"logs/ocel2/ocel2-p2p-traces.ttl\", \"w\") as out_file: # file to store traces\n",
    "    subprocess.run(cmd.split(\" \"), stdout=out_file) "
   ]
  },
  {
   "cell_type": "markdown",
   "metadata": {},
   "source": [
    "### Test queries"
   ]
  },
  {
   "cell_type": "code",
   "execution_count": 2,
   "metadata": {},
   "outputs": [],
   "source": [
    "def run_query(query_file):\n",
    "    cmd = f\"eye n3/pqn.n3 --turtle logs/ocel2/ocel2-p2p-expanded.ttl --nope --query n3/queries/{query_file}\"\n",
    "    subprocess.run(cmd.split(\" \")) "
   ]
  },
  {
   "cell_type": "code",
   "execution_count": null,
   "metadata": {},
   "outputs": [],
   "source": [
    "# - get all events and their activities in a trace\n",
    "# (n3/queries/trace_activities_query.n3)\n",
    "\n",
    "# use to check traces in query output.\n",
    "# e.g., to lookup trace t_1, update trace ID in n3/queries/trace_activities_query.n3,\n",
    "# and run code below\n",
    "\n",
    "run_query(\"trace_activities_query.n3\")"
   ]
  },
  {
   "cell_type": "code",
   "execution_count": 7,
   "metadata": {},
   "outputs": [
    {
     "name": "stderr",
     "output_type": "stream",
     "text": [
      "eye --quiet n3/pqn.n3 --turtle logs/ocel2/ocel2-p2p-expanded.ttl --nope --query n3/queries/p2p_mav_buying1.n3\n",
      "EYE v10.17.3 (2024-08-07)\n",
      "SWI-Prolog version 9.0.4\n",
      "starting 25 [msec cputime] 27 [msec walltime]\n",
      "GET file:///Users/wvw/git/pm/ELKG/n3/pqn.n3 SC=46\n",
      "GET file:///Users/wvw/git/pm/ELKG/logs/ocel2/ocel2-p2p-expanded.ttl "
     ]
    },
    {
     "name": "stdout",
     "output_type": "stream",
     "text": [
      "# Processed by EYE v10.17.3 (2024-08-07)\n",
      "# eye --quiet n3/pqn.n3 --turtle logs/ocel2/ocel2-p2p-expanded.ttl --nope --query n3/queries/p2p_mav_buying1.n3\n",
      "\n",
      "@prefix pq: <http://notation3.org/pqn#>.\n",
      "@prefix skolem: <https://eyereasoner.github.io/.well-known/genid/trace#>.\n",
      "\n",
      "pq:result pq:entry skolem:t_213.\n",
      "pq:result pq:entry skolem:t_218.\n",
      "pq:result pq:entry skolem:t_227.\n",
      "pq:result pq:entry skolem:t_249.\n",
      "pq:result pq:entry skolem:t_258.\n",
      "pq:result pq:entry skolem:t_261.\n",
      "pq:result pq:entry skolem:t_267.\n",
      "pq:result pq:entry skolem:t_276.\n",
      "pq:result pq:entry skolem:t_281.\n",
      "pq:result pq:entry skolem:t_290.\n",
      "pq:result pq:entry skolem:t_299.\n",
      "pq:result pq:entry skolem:t_303.\n",
      "pq:result pq:entry skolem:t_306.\n",
      "pq:result pq:entry skolem:t_309.\n",
      "pq:result pq:entry skolem:t_313.\n",
      "pq:result pq:entry skolem:t_319.\n",
      "pq:result pq:entry skolem:t_329.\n",
      "pq:result pq:entry skolem:t_341.\n",
      "pq:result pq:entry skolem:t_354.\n",
      "pq:result pq:entry skolem:t_360.\n",
      "pq:result pq:entry skolem:t_372.\n",
      "pq:result pq:entry skolem:t_373.\n",
      "pq:result pq:entry skolem:t_374.\n",
      "pq:result pq:entry skolem:t_376.\n",
      "pq:result pq:entry skolem:t_377.\n",
      "pq:result pq:entry skolem:t_379.\n",
      "pq:result pq:entry skolem:t_391.\n",
      "pq:result pq:entry skolem:t_399.\n",
      "pq:result pq:entry skolem:t_400.\n",
      "pq:result pq:entry skolem:t_406.\n",
      "pq:result pq:entry skolem:t_410.\n",
      "pq:result pq:entry skolem:t_412.\n",
      "pq:result pq:entry skolem:t_422.\n",
      "pq:result pq:entry skolem:t_433.\n",
      "pq:result pq:entry skolem:t_438.\n",
      "pq:result pq:entry skolem:t_439.\n",
      "pq:result pq:entry skolem:t_447.\n",
      "pq:result pq:entry skolem:t_452.\n",
      "pq:result pq:entry skolem:t_453.\n",
      "pq:result pq:entry skolem:t_456.\n",
      "pq:result pq:entry skolem:t_458.\n",
      "pq:result pq:entry skolem:t_459.\n",
      "pq:result pq:entry skolem:t_461.\n",
      "pq:result pq:entry skolem:t_464.\n",
      "pq:result pq:entry skolem:t_471.\n",
      "pq:result pq:entry skolem:t_476.\n",
      "pq:result pq:entry skolem:t_480.\n",
      "pq:result pq:entry skolem:t_492.\n",
      "pq:result pq:entry skolem:t_498.\n",
      "pq:result pq:entry skolem:t_501.\n",
      "pq:result pq:entry skolem:t_512.\n",
      "pq:result pq:entry skolem:t_515.\n",
      "pq:result pq:entry skolem:t_527.\n",
      "pq:result pq:entry skolem:t_536.\n",
      "pq:result pq:entry skolem:t_543.\n",
      "pq:result pq:entry skolem:t_546.\n",
      "pq:result pq:entry skolem:t_558.\n",
      "pq:result pq:entry skolem:t_563.\n",
      "pq:result pq:entry skolem:t_571.\n",
      "pq:result pq:entry skolem:t_574.\n",
      "pq:result pq:entry skolem:t_581.\n",
      "pq:result pq:entry skolem:t_592.\n",
      "pq:result pq:entry skolem:t_596.\n",
      "pq:result pq:entry skolem:t_598.\n",
      "pq:result pq:entry skolem:t_604.\n",
      "pq:result pq:entry skolem:t_611.\n",
      "pq:result pq:entry skolem:t_612.\n",
      "pq:result pq:entry skolem:t_623.\n",
      "pq:result pq:entry skolem:t_628.\n",
      "pq:result pq:entry skolem:t_631.\n",
      "pq:result pq:entry skolem:t_632.\n",
      "pq:result pq:entry skolem:t_634.\n",
      "pq:result pq:entry skolem:t_635.\n",
      "pq:result pq:entry skolem:t_640.\n",
      "pq:result pq:entry skolem:t_641.\n",
      "pq:result pq:entry skolem:t_646.\n",
      "pq:result pq:entry skolem:t_650.\n",
      "pq:result pq:entry skolem:t_654.\n",
      "pq:result pq:entry skolem:t_664.\n",
      "pq:result pq:entry skolem:t_675.\n",
      "pq:result pq:entry skolem:t_676.\n",
      "pq:result pq:entry skolem:t_694.\n",
      "pq:result pq:entry skolem:t_697.\n",
      "pq:result pq:entry skolem:t_710.\n",
      "pq:result pq:entry skolem:t_714.\n",
      "pq:result pq:entry skolem:t_716.\n",
      "pq:result pq:entry skolem:t_718.\n",
      "pq:result pq:entry skolem:t_719.\n",
      "pq:result pq:entry skolem:t_728.\n",
      "pq:result pq:entry skolem:t_732.\n",
      "pq:result pq:entry skolem:t_736.\n",
      "pq:result pq:entry skolem:t_738.\n",
      "pq:result pq:entry skolem:t_740.\n",
      "pq:result pq:entry skolem:t_744.\n",
      "pq:result pq:entry skolem:t_761.\n",
      "pq:result pq:entry skolem:t_768.\n",
      "pq:result pq:entry skolem:t_777.\n",
      "pq:result pq:entry skolem:t_787.\n",
      "pq:result pq:entry skolem:t_791.\n",
      "pq:result pq:entry skolem:t_797.\n",
      "pq:result pq:entry skolem:t_798.\n",
      "pq:result pq:entry skolem:t_801.\n",
      "pq:result pq:entry skolem:t_802.\n",
      "pq:result pq:entry skolem:t_803.\n",
      "pq:result pq:entry skolem:t_806.\n",
      "pq:result pq:entry skolem:t_819.\n",
      "pq:result pq:entry skolem:t_827.\n",
      "pq:result pq:entry skolem:t_832.\n",
      "pq:result pq:entry skolem:t_844.\n",
      "pq:result pq:entry skolem:t_854.\n",
      "pq:result pq:entry skolem:t_866.\n",
      "pq:result pq:entry skolem:t_868.\n",
      "pq:result pq:entry skolem:t_873.\n",
      "pq:result pq:entry skolem:t_874.\n",
      "pq:result pq:entry skolem:t_884.\n",
      "pq:result pq:entry skolem:t_885.\n",
      "pq:result pq:entry skolem:t_887.\n",
      "pq:result pq:entry skolem:t_897.\n",
      "pq:result pq:entry skolem:t_898.\n",
      "pq:result pq:entry skolem:t_904.\n",
      "pq:result pq:entry skolem:t_906.\n",
      "pq:result pq:entry skolem:t_916.\n",
      "# 2024-08-24T17:01:33.557Z in=333442 out=122 ent=122 step=122 brake=2 inf=12127601 sec=1.357 inf/sec=8937068\n",
      "# ENDS\n",
      "\n"
     ]
    },
    {
     "name": "stderr",
     "output_type": "stream",
     "text": [
      "SC=333395\n",
      "GET file:///Users/wvw/git/pm/ELKG/n3/queries/p2p_mav_buying1.n3 SC=1\n",
      "networking 1266 [msec cputime] 1358 [msec walltime]\n",
      "reasoning 66 [msec cputime] 69 [msec walltime]\n",
      "2024-08-24T17:01:33.557Z in=333442 out=122 ent=122 step=122 brake=2 inf=12127601 sec=1.357 inf/sec=8937068\n",
      "\n"
     ]
    }
   ],
   "source": [
    "# - maverick buying (1)\n",
    "# (see n3/queries/p2p_mav_buying1.n3)\n",
    "\n",
    "run_query(\"p2p_mav_buying1.n3\")"
   ]
  },
  {
   "cell_type": "code",
   "execution_count": 11,
   "metadata": {},
   "outputs": [
    {
     "name": "stderr",
     "output_type": "stream",
     "text": [
      "eye --quiet n3/pqn.n3 --turtle logs/ocel2/ocel2-p2p-expanded.ttl --nope --query n3/queries/p2p_mav_buying2.n3\n",
      "EYE v10.17.3 (2024-08-07)\n",
      "SWI-Prolog version 9.0.4\n",
      "starting 25 [msec cputime] 27 [msec walltime]\n",
      "GET file:///Users/wvw/git/pm/ELKG/n3/pqn.n3 SC=46\n",
      "GET file:///Users/wvw/git/pm/ELKG/logs/ocel2/ocel2-p2p-expanded.ttl "
     ]
    },
    {
     "name": "stdout",
     "output_type": "stream",
     "text": [
      "# Processed by EYE v10.17.3 (2024-08-07)\n",
      "# eye --quiet n3/pqn.n3 --turtle logs/ocel2/ocel2-p2p-expanded.ttl --nope --query n3/queries/p2p_mav_buying2.n3\n",
      "\n",
      "# 2024-08-24T17:02:49.284Z in=333442 out=0 ent=0 step=0 brake=2 inf=11900706 sec=1.391 inf/sec=8555504\n",
      "# ENDS\n",
      "\n"
     ]
    },
    {
     "name": "stderr",
     "output_type": "stream",
     "text": [
      "SC=333395\n",
      "GET file:///Users/wvw/git/pm/ELKG/n3/queries/p2p_mav_buying2.n3 SC=1\n",
      "networking 1311 [msec cputime] 1411 [msec walltime]\n",
      "reasoning 55 [msec cputime] 57 [msec walltime]\n",
      "2024-08-24T17:02:49.284Z in=333442 out=0 ent=0 step=0 brake=2 inf=11900706 sec=1.391 inf/sec=8555504\n",
      "\n"
     ]
    }
   ],
   "source": [
    "# - maverick buying (2)\n",
    "# (see n3/queries/p2p_mav_buying2.n3)\n",
    "\n",
    "# (nothing found!)\n",
    "run_query(\"p2p_mav_buying2.n3\")"
   ]
  },
  {
   "cell_type": "code",
   "execution_count": 12,
   "metadata": {},
   "outputs": [
    {
     "name": "stderr",
     "output_type": "stream",
     "text": [
      "eye --quiet n3/pqn.n3 --turtle logs/ocel2/ocel2-p2p-expanded.ttl --nope --query n3/queries/p2p_duplic_paym.n3\n",
      "EYE v10.17.3 (2024-08-07)\n",
      "SWI-Prolog version 9.0.4\n",
      "starting 25 [msec cputime] 27 [msec walltime]\n",
      "GET file:///Users/wvw/git/pm/ELKG/n3/pqn.n3 SC=46\n",
      "GET file:///Users/wvw/git/pm/ELKG/logs/ocel2/ocel2-p2p-expanded.ttl "
     ]
    },
    {
     "name": "stdout",
     "output_type": "stream",
     "text": [
      "# Processed by EYE v10.17.3 (2024-08-07)\n",
      "# eye --quiet n3/pqn.n3 --turtle logs/ocel2/ocel2-p2p-expanded.ttl --nope --query n3/queries/p2p_duplic_paym.n3\n",
      "\n",
      "@prefix pq: <http://notation3.org/pqn#>.\n",
      "@prefix skolem: <https://eyereasoner.github.io/.well-known/genid/trace#>.\n",
      "\n",
      "pq:result pq:entry (skolem:t_3 \"# payments: 2\").\n",
      "pq:result pq:entry (skolem:t_13 \"# payments: 2\").\n",
      "pq:result pq:entry (skolem:t_23 \"# payments: 2\").\n",
      "pq:result pq:entry (skolem:t_26 \"# payments: 2\").\n",
      "pq:result pq:entry (skolem:t_29 \"# payments: 2\").\n",
      "pq:result pq:entry (skolem:t_32 \"# payments: 2\").\n",
      "pq:result pq:entry (skolem:t_46 \"# payments: 2\").\n",
      "pq:result pq:entry (skolem:t_51 \"# payments: 4\").\n",
      "pq:result pq:entry (skolem:t_56 \"# payments: 2\").\n",
      "pq:result pq:entry (skolem:t_65 \"# payments: 3\").\n",
      "pq:result pq:entry (skolem:t_85 \"# payments: 2\").\n",
      "pq:result pq:entry (skolem:t_99 \"# payments: 2\").\n",
      "pq:result pq:entry (skolem:t_108 \"# payments: 2\").\n",
      "pq:result pq:entry (skolem:t_119 \"# payments: 2\").\n",
      "pq:result pq:entry (skolem:t_122 \"# payments: 2\").\n",
      "pq:result pq:entry (skolem:t_130 \"# payments: 2\").\n",
      "pq:result pq:entry (skolem:t_140 \"# payments: 3\").\n",
      "pq:result pq:entry (skolem:t_152 \"# payments: 4\").\n",
      "pq:result pq:entry (skolem:t_155 \"# payments: 2\").\n",
      "pq:result pq:entry (skolem:t_162 \"# payments: 2\").\n",
      "pq:result pq:entry (skolem:t_168 \"# payments: 4\").\n",
      "pq:result pq:entry (skolem:t_175 \"# payments: 2\").\n",
      "pq:result pq:entry (skolem:t_178 \"# payments: 2\").\n",
      "pq:result pq:entry (skolem:t_186 \"# payments: 3\").\n",
      "pq:result pq:entry (skolem:t_190 \"# payments: 2\").\n",
      "pq:result pq:entry (skolem:t_195 \"# payments: 2\").\n",
      "pq:result pq:entry (skolem:t_196 \"# payments: 2\").\n",
      "pq:result pq:entry (skolem:t_197 \"# payments: 2\").\n",
      "pq:result pq:entry (skolem:t_198 \"# payments: 3\").\n",
      "pq:result pq:entry (skolem:t_200 \"# payments: 2\").\n",
      "pq:result pq:entry (skolem:t_210 \"# payments: 2\").\n",
      "pq:result pq:entry (skolem:t_214 \"# payments: 2\").\n",
      "pq:result pq:entry (skolem:t_215 \"# payments: 4\").\n",
      "pq:result pq:entry (skolem:t_224 \"# payments: 2\").\n",
      "pq:result pq:entry (skolem:t_232 \"# payments: 3\").\n",
      "pq:result pq:entry (skolem:t_235 \"# payments: 2\").\n",
      "pq:result pq:entry (skolem:t_236 \"# payments: 2\").\n",
      "pq:result pq:entry (skolem:t_243 \"# payments: 2\").\n",
      "pq:result pq:entry (skolem:t_252 \"# payments: 2\").\n",
      "pq:result pq:entry (skolem:t_262 \"# payments: 2\").\n",
      "pq:result pq:entry (skolem:t_263 \"# payments: 2\").\n",
      "pq:result pq:entry (skolem:t_280 \"# payments: 2\").\n",
      "pq:result pq:entry (skolem:t_284 \"# payments: 2\").\n",
      "pq:result pq:entry (skolem:t_285 \"# payments: 2\").\n",
      "pq:result pq:entry (skolem:t_286 \"# payments: 3\").\n",
      "pq:result pq:entry (skolem:t_288 \"# payments: 4\").\n",
      "pq:result pq:entry (skolem:t_290 \"# payments: 3\").\n",
      "pq:result pq:entry (skolem:t_294 \"# payments: 2\").\n",
      "pq:result pq:entry (skolem:t_300 \"# payments: 2\").\n",
      "pq:result pq:entry (skolem:t_310 \"# payments: 2\").\n",
      "pq:result pq:entry (skolem:t_312 \"# payments: 2\").\n",
      "pq:result pq:entry (skolem:t_316 \"# payments: 2\").\n",
      "pq:result pq:entry (skolem:t_320 \"# payments: 2\").\n",
      "pq:result pq:entry (skolem:t_323 \"# payments: 2\").\n",
      "pq:result pq:entry (skolem:t_329 \"# payments: 2\").\n",
      "pq:result pq:entry (skolem:t_340 \"# payments: 3\").\n",
      "pq:result pq:entry (skolem:t_344 \"# payments: 2\").\n",
      "pq:result pq:entry (skolem:t_353 \"# payments: 3\").\n",
      "pq:result pq:entry (skolem:t_361 \"# payments: 2\").\n",
      "pq:result pq:entry (skolem:t_362 \"# payments: 2\").\n",
      "pq:result pq:entry (skolem:t_370 \"# payments: 3\").\n",
      "pq:result pq:entry (skolem:t_374 \"# payments: 3\").\n",
      "pq:result pq:entry (skolem:t_377 \"# payments: 2\").\n",
      "pq:result pq:entry (skolem:t_384 \"# payments: 2\").\n",
      "pq:result pq:entry (skolem:t_390 \"# payments: 2\").\n",
      "pq:result pq:entry (skolem:t_395 \"# payments: 3\").\n",
      "pq:result pq:entry (skolem:t_399 \"# payments: 3\").\n",
      "pq:result pq:entry (skolem:t_406 \"# payments: 5\").\n",
      "pq:result pq:entry (skolem:t_413 \"# payments: 2\").\n",
      "pq:result pq:entry (skolem:t_422 \"# payments: 2\").\n",
      "pq:result pq:entry (skolem:t_425 \"# payments: 2\").\n",
      "pq:result pq:entry (skolem:t_434 \"# payments: 2\").\n",
      "pq:result pq:entry (skolem:t_437 \"# payments: 3\").\n",
      "pq:result pq:entry (skolem:t_440 \"# payments: 2\").\n",
      "pq:result pq:entry (skolem:t_442 \"# payments: 3\").\n",
      "pq:result pq:entry (skolem:t_443 \"# payments: 2\").\n",
      "pq:result pq:entry (skolem:t_445 \"# payments: 2\").\n",
      "pq:result pq:entry (skolem:t_446 \"# payments: 2\").\n",
      "pq:result pq:entry (skolem:t_451 \"# payments: 2\").\n",
      "pq:result pq:entry (skolem:t_452 \"# payments: 2\").\n",
      "pq:result pq:entry (skolem:t_455 \"# payments: 2\").\n",
      "pq:result pq:entry (skolem:t_459 \"# payments: 2\").\n",
      "pq:result pq:entry (skolem:t_460 \"# payments: 3\").\n",
      "pq:result pq:entry (skolem:t_462 \"# payments: 2\").\n",
      "pq:result pq:entry (skolem:t_463 \"# payments: 2\").\n",
      "pq:result pq:entry (skolem:t_465 \"# payments: 2\").\n",
      "pq:result pq:entry (skolem:t_478 \"# payments: 2\").\n",
      "pq:result pq:entry (skolem:t_483 \"# payments: 2\").\n",
      "pq:result pq:entry (skolem:t_484 \"# payments: 4\").\n",
      "pq:result pq:entry (skolem:t_485 \"# payments: 3\").\n",
      "pq:result pq:entry (skolem:t_488 \"# payments: 2\").\n",
      "pq:result pq:entry (skolem:t_490 \"# payments: 3\").\n",
      "pq:result pq:entry (skolem:t_493 \"# payments: 2\").\n",
      "pq:result pq:entry (skolem:t_494 \"# payments: 2\").\n",
      "pq:result pq:entry (skolem:t_498 \"# payments: 2\").\n",
      "pq:result pq:entry (skolem:t_503 \"# payments: 2\").\n",
      "pq:result pq:entry (skolem:t_505 \"# payments: 2\").\n",
      "pq:result pq:entry (skolem:t_510 \"# payments: 2\").\n",
      "pq:result pq:entry (skolem:t_520 \"# payments: 2\").\n",
      "pq:result pq:entry (skolem:t_522 \"# payments: 2\").\n",
      "pq:result pq:entry (skolem:t_529 \"# payments: 2\").\n",
      "pq:result pq:entry (skolem:t_536 \"# payments: 2\").\n",
      "pq:result pq:entry (skolem:t_544 \"# payments: 2\").\n",
      "pq:result pq:entry (skolem:t_546 \"# payments: 2\").\n",
      "pq:result pq:entry (skolem:t_547 \"# payments: 2\").\n",
      "pq:result pq:entry (skolem:t_548 \"# payments: 2\").\n",
      "pq:result pq:entry (skolem:t_552 \"# payments: 3\").\n",
      "pq:result pq:entry (skolem:t_557 \"# payments: 2\").\n",
      "pq:result pq:entry (skolem:t_560 \"# payments: 2\").\n",
      "pq:result pq:entry (skolem:t_563 \"# payments: 2\").\n",
      "pq:result pq:entry (skolem:t_568 \"# payments: 2\").\n",
      "pq:result pq:entry (skolem:t_569 \"# payments: 4\").\n",
      "pq:result pq:entry (skolem:t_578 \"# payments: 3\").\n",
      "pq:result pq:entry (skolem:t_585 \"# payments: 2\").\n",
      "pq:result pq:entry (skolem:t_592 \"# payments: 2\").\n",
      "pq:result pq:entry (skolem:t_598 \"# payments: 3\").\n",
      "pq:result pq:entry (skolem:t_602 \"# payments: 2\").\n",
      "pq:result pq:entry (skolem:t_607 \"# payments: 2\").\n",
      "pq:result pq:entry (skolem:t_616 \"# payments: 2\").\n",
      "pq:result pq:entry (skolem:t_619 \"# payments: 2\").\n",
      "pq:result pq:entry (skolem:t_622 \"# payments: 2\").\n",
      "pq:result pq:entry (skolem:t_624 \"# payments: 3\").\n",
      "pq:result pq:entry (skolem:t_627 \"# payments: 2\").\n",
      "pq:result pq:entry (skolem:t_628 \"# payments: 3\").\n",
      "pq:result pq:entry (skolem:t_640 \"# payments: 2\").\n",
      "pq:result pq:entry (skolem:t_644 \"# payments: 3\").\n",
      "pq:result pq:entry (skolem:t_651 \"# payments: 2\").\n",
      "pq:result pq:entry (skolem:t_656 \"# payments: 2\").\n",
      "pq:result pq:entry (skolem:t_659 \"# payments: 2\").\n",
      "pq:result pq:entry (skolem:t_660 \"# payments: 3\").\n",
      "pq:result pq:entry (skolem:t_661 \"# payments: 2\").\n",
      "pq:result pq:entry (skolem:t_680 \"# payments: 2\").\n",
      "pq:result pq:entry (skolem:t_681 \"# payments: 3\").\n",
      "pq:result pq:entry (skolem:t_683 \"# payments: 2\").\n",
      "pq:result pq:entry (skolem:t_684 \"# payments: 2\").\n",
      "pq:result pq:entry (skolem:t_701 \"# payments: 2\").\n",
      "pq:result pq:entry (skolem:t_705 \"# payments: 2\").\n",
      "pq:result pq:entry (skolem:t_707 \"# payments: 2\").\n",
      "pq:result pq:entry (skolem:t_712 \"# payments: 2\").\n",
      "pq:result pq:entry (skolem:t_716 \"# payments: 2\").\n",
      "pq:result pq:entry (skolem:t_720 \"# payments: 3\").\n",
      "pq:result pq:entry (skolem:t_731 \"# payments: 2\").\n",
      "pq:result pq:entry (skolem:t_735 \"# payments: 2\").\n",
      "pq:result pq:entry (skolem:t_736 \"# payments: 2\").\n",
      "pq:result pq:entry (skolem:t_741 \"# payments: 2\").\n",
      "pq:result pq:entry (skolem:t_750 \"# payments: 2\").\n",
      "pq:result pq:entry (skolem:t_754 \"# payments: 2\").\n",
      "pq:result pq:entry (skolem:t_759 \"# payments: 2\").\n",
      "pq:result pq:entry (skolem:t_773 \"# payments: 2\").\n",
      "pq:result pq:entry (skolem:t_776 \"# payments: 2\").\n",
      "pq:result pq:entry (skolem:t_779 \"# payments: 2\").\n",
      "pq:result pq:entry (skolem:t_782 \"# payments: 2\").\n",
      "pq:result pq:entry (skolem:t_785 \"# payments: 2\").\n",
      "pq:result pq:entry (skolem:t_790 \"# payments: 2\").\n",
      "pq:result pq:entry (skolem:t_793 \"# payments: 3\").\n",
      "pq:result pq:entry (skolem:t_804 \"# payments: 3\").\n",
      "pq:result pq:entry (skolem:t_806 \"# payments: 2\").\n",
      "pq:result pq:entry (skolem:t_812 \"# payments: 2\").\n",
      "pq:result pq:entry (skolem:t_816 \"# payments: 2\").\n",
      "pq:result pq:entry (skolem:t_822 \"# payments: 2\").\n",
      "pq:result pq:entry (skolem:t_825 \"# payments: 2\").\n",
      "pq:result pq:entry (skolem:t_826 \"# payments: 3\").\n",
      "pq:result pq:entry (skolem:t_828 \"# payments: 2\").\n",
      "pq:result pq:entry (skolem:t_829 \"# payments: 2\").\n",
      "pq:result pq:entry (skolem:t_832 \"# payments: 2\").\n",
      "pq:result pq:entry (skolem:t_833 \"# payments: 2\").\n",
      "pq:result pq:entry (skolem:t_835 \"# payments: 3\").\n",
      "pq:result pq:entry (skolem:t_837 \"# payments: 2\").\n",
      "pq:result pq:entry (skolem:t_846 \"# payments: 2\").\n",
      "pq:result pq:entry (skolem:t_847 \"# payments: 2\").\n",
      "pq:result pq:entry (skolem:t_850 \"# payments: 2\").\n",
      "pq:result pq:entry (skolem:t_852 \"# payments: 2\").\n",
      "pq:result pq:entry (skolem:t_855 \"# payments: 2\").\n",
      "pq:result pq:entry (skolem:t_864 \"# payments: 2\").\n",
      "pq:result pq:entry (skolem:t_865 \"# payments: 2\").\n",
      "pq:result pq:entry (skolem:t_868 \"# payments: 2\").\n",
      "pq:result pq:entry (skolem:t_876 \"# payments: 3\").\n",
      "pq:result pq:entry (skolem:t_882 \"# payments: 3\").\n",
      "pq:result pq:entry (skolem:t_885 \"# payments: 2\").\n",
      "pq:result pq:entry (skolem:t_891 \"# payments: 3\").\n",
      "pq:result pq:entry (skolem:t_893 \"# payments: 2\").\n",
      "pq:result pq:entry (skolem:t_899 \"# payments: 2\").\n",
      "pq:result pq:entry (skolem:t_902 \"# payments: 2\").\n",
      "pq:result pq:entry (skolem:t_906 \"# payments: 2\").\n",
      "pq:result pq:entry (skolem:t_915 \"# payments: 2\").\n",
      "pq:result pq:entry (skolem:t_920 \"# payments: 2\").\n",
      "pq:result pq:entry (skolem:t_922 \"# payments: 2\").\n",
      "pq:result pq:entry (skolem:t_925 \"# payments: 2\").\n",
      "# 2024-08-24T17:03:31.674Z in=333442 out=188 ent=188 step=188 brake=2 inf=11960509 sec=1.361 inf/sec=8788030\n",
      "# ENDS\n",
      "\n"
     ]
    },
    {
     "name": "stderr",
     "output_type": "stream",
     "text": [
      "SC=333395\n",
      "GET file:///Users/wvw/git/pm/ELKG/n3/queries/p2p_duplic_paym.n3 SC=1\n",
      "networking 1300 [msec cputime] 1393 [msec walltime]\n",
      "reasoning 36 [msec cputime] 37 [msec walltime]\n",
      "2024-08-24T17:03:31.674Z in=333442 out=188 ent=188 step=188 brake=2 inf=11960509 sec=1.361 inf/sec=8788030\n",
      "\n"
     ]
    }
   ],
   "source": [
    "# - duplicate payments\n",
    "# (see n3/queries/p2p_duplic_paym.n3)\n",
    "\n",
    "run_query(\"p2p_duplic_paym.n3\")"
   ]
  },
  {
   "cell_type": "code",
   "execution_count": 19,
   "metadata": {},
   "outputs": [
    {
     "name": "stderr",
     "output_type": "stream",
     "text": [
      "eye --quiet n3/pqn.n3 --turtle logs/ocel2/ocel2-p2p-expanded.ttl --nope --query n3/queries/p2p_long_approv.n3\n",
      "EYE v10.17.3 (2024-08-07)\n",
      "SWI-Prolog version 9.0.4\n",
      "starting 25 [msec cputime] 28 [msec walltime]\n",
      "GET file:///Users/wvw/git/pm/ELKG/n3/pqn.n3 SC=47\n",
      "GET file:///Users/wvw/git/pm/ELKG/logs/ocel2/ocel2-p2p-expanded.ttl "
     ]
    },
    {
     "name": "stdout",
     "output_type": "stream",
     "text": [
      "# Processed by EYE v10.17.3 (2024-08-07)\n",
      "# eye --quiet n3/pqn.n3 --turtle logs/ocel2/ocel2-p2p-expanded.ttl --nope --query n3/queries/p2p_long_approv.n3\n",
      "\n",
      "@prefix pq: <http://notation3.org/pqn#>.\n",
      "@prefix skolem: <https://eyereasoner.github.io/.well-known/genid/trace#>.\n",
      "\n",
      "pq:result pq:entry (skolem:t_0 \"19 days\").\n",
      "pq:result pq:entry (skolem:t_3 \"16 days\").\n",
      "pq:result pq:entry (skolem:t_63 \"15 days\").\n",
      "pq:result pq:entry (skolem:t_141 \"15 days\").\n",
      "pq:result pq:entry (skolem:t_247 \"18 days\").\n",
      "pq:result pq:entry (skolem:t_505 \"18 days\").\n",
      "pq:result pq:entry (skolem:t_563 \"17 days\").\n",
      "pq:result pq:entry (skolem:t_689 \"16 days\").\n",
      "pq:result pq:entry (skolem:t_695 \"16 days\").\n",
      "pq:result pq:entry (skolem:t_833 \"21 days\").\n",
      "pq:result pq:entry (skolem:t_855 \"16 days\").\n",
      "pq:result pq:entry (skolem:t_856 \"25 days\").\n",
      "pq:result pq:entry (skolem:t_915 \"24 days\").\n",
      "# 2024-08-24T17:12:44.158Z in=333443 out=13 ent=13 step=13 brake=1 inf=13387761 sec=1.462 inf/sec=9157155\n",
      "# ENDS\n",
      "\n"
     ]
    },
    {
     "name": "stderr",
     "output_type": "stream",
     "text": [
      "SC=333395\n",
      "GET file:///Users/wvw/git/pm/ELKG/n3/queries/p2p_long_approv.n3 SC=1\n",
      "networking 1300 [msec cputime] 1417 [msec walltime]\n",
      "reasoning 137 [msec cputime] 142 [msec walltime]\n",
      "2024-08-24T17:12:44.158Z in=333443 out=13 ent=13 step=13 brake=1 inf=13387761 sec=1.462 inf/sec=9157155\n",
      "\n"
     ]
    }
   ],
   "source": [
    "# - lengthy approval process\n",
    "# (from creation to approval of purchase order)\n",
    "# (see n3/queries/p2p_long_approv.n3)\n",
    "\n",
    "run_query(\"p2p_long_approv.n3\")"
   ]
  },
  {
   "cell_type": "code",
   "execution_count": 20,
   "metadata": {},
   "outputs": [
    {
     "name": "stderr",
     "output_type": "stream",
     "text": [
      "eye --quiet n3/pqn.n3 --turtle logs/ocel2/ocel2-p2p-expanded.ttl --nope --query n3/queries/p2p_long_process.n3\n",
      "EYE v10.17.3 (2024-08-07)\n",
      "SWI-Prolog version 9.0.4\n",
      "starting 24 [msec cputime] 26 [msec walltime]\n",
      "GET file:///Users/wvw/git/pm/ELKG/n3/pqn.n3 SC=47\n",
      "GET file:///Users/wvw/git/pm/ELKG/logs/ocel2/ocel2-p2p-expanded.ttl "
     ]
    },
    {
     "name": "stdout",
     "output_type": "stream",
     "text": [
      "# Processed by EYE v10.17.3 (2024-08-07)\n",
      "# eye --quiet n3/pqn.n3 --turtle logs/ocel2/ocel2-p2p-expanded.ttl --nope --query n3/queries/p2p_long_process.n3\n",
      "\n",
      "@prefix pq: <http://notation3.org/pqn#>.\n",
      "@prefix skolem: <https://eyereasoner.github.io/.well-known/genid/trace#>.\n",
      "\n",
      "pq:result pq:entry (skolem:t_266 \"44 days\").\n",
      "pq:result pq:entry (skolem:t_288 \"43 days\").\n",
      "pq:result pq:entry (skolem:t_343 \"44 days\").\n",
      "pq:result pq:entry (skolem:t_424 \"51 days\").\n",
      "pq:result pq:entry (skolem:t_443 \"45 days\").\n",
      "pq:result pq:entry (skolem:t_443 \"46 days\").\n",
      "pq:result pq:entry (skolem:t_485 \"49 days\").\n",
      "pq:result pq:entry (skolem:t_485 \"52 days\").\n",
      "pq:result pq:entry (skolem:t_528 \"43 days\").\n",
      "pq:result pq:entry (skolem:t_563 \"46 days\").\n",
      "pq:result pq:entry (skolem:t_660 \"46 days\").\n",
      "pq:result pq:entry (skolem:t_687 \"66 days\").\n",
      "pq:result pq:entry (skolem:t_689 \"54 days\").\n",
      "pq:result pq:entry (skolem:t_759 \"47 days\").\n",
      "pq:result pq:entry (skolem:t_767 \"43 days\").\n",
      "pq:result pq:entry (skolem:t_793 \"49 days\").\n",
      "pq:result pq:entry (skolem:t_855 \"47 days\").\n",
      "pq:result pq:entry (skolem:t_860 \"45 days\").\n",
      "pq:result pq:entry (skolem:t_882 \"44 days\").\n",
      "pq:result pq:entry (skolem:t_882 \"51 days\").\n",
      "pq:result pq:entry (skolem:t_890 \"48 days\").\n",
      "pq:result pq:entry (skolem:t_915 \"50 days\").\n",
      "pq:result pq:entry (skolem:t_915 \"52 days\").\n",
      "# 2024-08-24T17:14:08.813Z in=333443 out=23 ent=23 step=24 brake=1 inf=12279501 sec=1.370 inf/sec=8963139\n",
      "# ENDS\n",
      "\n"
     ]
    },
    {
     "name": "stderr",
     "output_type": "stream",
     "text": [
      "SC=333395\n",
      "GET file:///Users/wvw/git/pm/ELKG/n3/queries/p2p_long_process.n3 SC=1\n",
      "networking 1304 [msec cputime] 1401 [msec walltime]\n",
      "reasoning 42 [msec cputime] 42 [msec walltime]\n",
      "2024-08-24T17:14:08.813Z in=333443 out=23 ent=23 step=24 brake=1 inf=12279501 sec=1.370 inf/sec=8963139\n",
      "\n"
     ]
    }
   ],
   "source": [
    "# - lengthy process overall \n",
    "# (from initial purchase requisition to final payment)\n",
    "# (see n3/queries/p2p_long_process.n3)\n",
    "\n",
    "run_query(\"p2p_long_process.n3\")"
   ]
  }
 ],
 "metadata": {
  "kernelspec": {
   "display_name": "base",
   "language": "python",
   "name": "python3"
  },
  "language_info": {
   "codemirror_mode": {
    "name": "ipython",
    "version": 3
   },
   "file_extension": ".py",
   "mimetype": "text/x-python",
   "name": "python",
   "nbconvert_exporter": "python",
   "pygments_lexer": "ipython3",
   "version": "3.11.5"
  },
  "orig_nbformat": 4
 },
 "nbformat": 4,
 "nbformat_minor": 2
}
