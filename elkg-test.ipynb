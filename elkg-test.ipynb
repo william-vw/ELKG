{
 "cells": [
  {
   "cell_type": "markdown",
   "metadata": {},
   "source": [
    "# Event Log Knowledge Graph (ELKG)"
   ]
  },
  {
   "cell_type": "markdown",
   "metadata": {},
   "source": [
    "See `requirements.txt` for required dependencies.  \n",
    "You can install the latest `eye` reasoner from https://github.com/eyereasoner/eye/tags."
   ]
  },
  {
   "cell_type": "code",
   "execution_count": 6,
   "metadata": {},
   "outputs": [],
   "source": [
    "import pm4py\n",
    "import pandas as pd\n",
    "import subprocess\n",
    "\n",
    "from rdflib import Namespace"
   ]
  },
  {
   "cell_type": "markdown",
   "metadata": {},
   "source": [
    "## CCEL (XES)"
   ]
  },
  {
   "cell_type": "markdown",
   "metadata": {},
   "source": [
    "### Convert XES into ELKG\n",
    "\n",
    "**(needs to be done only once!)**"
   ]
  },
  {
   "cell_type": "code",
   "execution_count": null,
   "metadata": {},
   "outputs": [],
   "source": [
    "# - load XES\n",
    "\n",
    "log = pm4py.read_xes(\"logs/xes/sepsis.xes\")"
   ]
  },
  {
   "cell_type": "code",
   "execution_count": null,
   "metadata": {},
   "outputs": [],
   "source": [
    "# - convert XES to RDF\n",
    "\n",
    "from convert_log import convert_xes_rdf, RdfRepresent\n",
    "\n",
    "convert_xes_rdf(log, \"logs/xes/sepsis.ttl\", Namespace(\"http://dutch.hospital.nl/sepsis#\"), RdfRepresent.LINK_PRED)"
   ]
  },
  {
   "cell_type": "markdown",
   "metadata": {},
   "source": [
    "### Test queries"
   ]
  },
  {
   "cell_type": "code",
   "execution_count": null,
   "metadata": {},
   "outputs": [],
   "source": [
    "def run_query(query_file):\n",
    "    cmd = f\"eye n3/pqn.n3 --turtle logs/xes/sepsis.ttl --nope --query n3/queries/{query_file}\"\n",
    "    subprocess.run(cmd.split(\" \")) "
   ]
  },
  {
   "cell_type": "code",
   "execution_count": null,
   "metadata": {},
   "outputs": [],
   "source": [
    "# - get traces based on activity occurrence, sequential relations, and arbitrary constraints\n",
    "\n",
    "run_query(\"sepsis_query.n3\")"
   ]
  },
  {
   "cell_type": "markdown",
   "metadata": {},
   "source": [
    "## OCEL2"
   ]
  },
  {
   "cell_type": "markdown",
   "metadata": {},
   "source": [
    "### Convert OCEL2 log into ELKG"
   ]
  },
  {
   "cell_type": "code",
   "execution_count": null,
   "metadata": {},
   "outputs": [],
   "source": [
    "# - load OCEL2\n",
    "\n",
    "log = pm4py.read_ocel2(\"logs/ocel2/ocel2-p2p.xml\")"
   ]
  },
  {
   "cell_type": "code",
   "execution_count": null,
   "metadata": {},
   "outputs": [],
   "source": [
    "# - convert OCEL2 to RDF\n",
    "\n",
    "from convert_log import convert_ocel2_rdf\n",
    "\n",
    "# (full log)\n",
    "convert_ocel2_rdf(log, \"logs/ocel2/ocel2-p2p.ttl\", Namespace(\"http://ocel2.org/p2p#\"))\n",
    "# # (log subset with 5000 events)\n",
    "# convert_ocel2_rdf(log, \"logs/ocel2/ocel2-p2p-5000.ttl\", Namespace(\"http://ocel2.org/p2p#\"), 5000)\n",
    "# # (log subset with 10000 events)\n",
    "# convert_ocel2_rdf(log, \"logs/ocel2/ocel2-p2p-10000.ttl\", Namespace(\"http://ocel2.org/p2p#\"), 10000)"
   ]
  },
  {
   "cell_type": "markdown",
   "metadata": {},
   "source": [
    "#### Flatten based on perspective"
   ]
  },
  {
   "cell_type": "code",
   "execution_count": null,
   "metadata": {},
   "outputs": [],
   "source": [
    "# - extract traces from ELKG using perspective (defined in traces_query.n3)\n",
    "\n",
    "cmd = \"eye n3/sort.n3 n3/traces/traces_collect.n3 --turtle logs/ocel2/ocel2-p2p.ttl --query n3/traces/traces_query.n3 --nope --skolem-genid trace\"\n",
    "\n",
    "with open(\"logs/ocel2/ocel2-p2p-traces.ttl\", \"w\") as out_file: # file to store traces\n",
    "    subprocess.run(cmd.split(\" \"), stdout=out_file) "
   ]
  },
  {
   "cell_type": "markdown",
   "metadata": {},
   "source": [
    "### Test queries"
   ]
  },
  {
   "cell_type": "code",
   "execution_count": 7,
   "metadata": {},
   "outputs": [],
   "source": [
    "def run_query(query_file):\n",
    "    cmd = f\"eye n3/pqn.n3 --turtle logs/ocel2/ocel2-p2p-expanded.ttl --nope --query n3/queries/{query_file}\"\n",
    "    subprocess.run(cmd.split(\" \")) "
   ]
  },
  {
   "cell_type": "code",
   "execution_count": null,
   "metadata": {},
   "outputs": [],
   "source": [
    "# - get all events and their activities in a trace\n",
    "# (n3/queries/trace_activities_query.n3)\n",
    "\n",
    "# use to check traces in query output.\n",
    "# e.g., to lookup trace t_1, update trace ID in n3/queries/trace_activities_query.n3,\n",
    "# and run code below\n",
    "\n",
    "run_query(\"trace_activities_query.n3\")"
   ]
  },
  {
   "cell_type": "code",
   "execution_count": null,
   "metadata": {},
   "outputs": [],
   "source": [
    "# - maverick buying\n",
    "\n",
    "run_query(\"p2p_mav_buying1.n3\")"
   ]
  },
  {
   "cell_type": "code",
   "execution_count": null,
   "metadata": {},
   "outputs": [],
   "source": [
    "# - maverick buying (2)\n",
    "\n",
    "# (nothing found!)\n",
    "run_query(\"p2p_mav_buying2.n3\")"
   ]
  },
  {
   "cell_type": "code",
   "execution_count": null,
   "metadata": {},
   "outputs": [],
   "source": [
    "# - duplicate payments\n",
    "\n",
    "run_query(\"p2p_duplic_paym.n3\")"
   ]
  },
  {
   "cell_type": "code",
   "execution_count": null,
   "metadata": {},
   "outputs": [],
   "source": [
    "# - lengthy approval process\n",
    "# (from creation to approval of purchase order)\n",
    "\n",
    "run_query(\"p2p_long_approv.n3\")"
   ]
  },
  {
   "cell_type": "code",
   "execution_count": 17,
   "metadata": {},
   "outputs": [
    {
     "name": "stderr",
     "output_type": "stream",
     "text": [
      "eye --quiet n3/pqn.n3 --turtle logs/ocel2/ocel2-p2p-expanded.ttl --nope --query n3/queries/p2p_long_process.n3\n",
      "EYE v10.17.3 (2024-08-07)\n",
      "SWI-Prolog version 9.0.4\n",
      "starting 25 [msec cputime] 27 [msec walltime]\n",
      "GET file:///Users/wvw/git/pm/ELKG/n3/pqn.n3 SC=46\n",
      "GET file:///Users/wvw/git/pm/ELKG/logs/ocel2/ocel2-p2p-expanded.ttl "
     ]
    },
    {
     "name": "stdout",
     "output_type": "stream",
     "text": [
      "# Processed by EYE v10.17.3 (2024-08-07)\n",
      "# eye --quiet n3/pqn.n3 --turtle logs/ocel2/ocel2-p2p-expanded.ttl --nope --query n3/queries/p2p_long_process.n3\n",
      "\n",
      "@prefix pq: <http://notation3.org/pqn#>.\n",
      "@prefix skolem: <https://eyereasoner.github.io/.well-known/genid/trace#>.\n",
      "\n",
      "pq:result pq:entry (skolem:t_266 \"44 days\").\n",
      "pq:result pq:entry (skolem:t_288 \"44 days\").\n",
      "pq:result pq:entry (skolem:t_343 \"44 days\").\n",
      "pq:result pq:entry (skolem:t_424 \"51 days\").\n",
      "pq:result pq:entry (skolem:t_443 \"45 days\").\n",
      "pq:result pq:entry (skolem:t_443 \"46 days\").\n",
      "pq:result pq:entry (skolem:t_485 \"49 days\").\n",
      "pq:result pq:entry (skolem:t_485 \"53 days\").\n",
      "pq:result pq:entry (skolem:t_528 \"43 days\").\n",
      "pq:result pq:entry (skolem:t_548 \"43 days\").\n",
      "pq:result pq:entry (skolem:t_563 \"43 days\").\n",
      "pq:result pq:entry (skolem:t_563 \"47 days\").\n",
      "pq:result pq:entry (skolem:t_660 \"47 days\").\n",
      "pq:result pq:entry (skolem:t_687 \"66 days\").\n",
      "pq:result pq:entry (skolem:t_689 \"55 days\").\n",
      "pq:result pq:entry (skolem:t_759 \"48 days\").\n",
      "pq:result pq:entry (skolem:t_767 \"44 days\").\n",
      "pq:result pq:entry (skolem:t_793 \"50 days\").\n",
      "pq:result pq:entry (skolem:t_855 \"48 days\").\n",
      "pq:result pq:entry (skolem:t_860 \"45 days\").\n",
      "pq:result pq:entry (skolem:t_882 \"44 days\").\n",
      "pq:result pq:entry (skolem:t_882 \"51 days\").\n",
      "pq:result pq:entry (skolem:t_890 \"48 days\").\n",
      "pq:result pq:entry (skolem:t_915 \"50 days\").\n",
      "pq:result pq:entry (skolem:t_915 \"53 days\").\n",
      "# 2024-08-23T14:51:06.692Z in=333442 out=25 ent=25 step=26 brake=1 inf=12391145 sec=1.372 inf/sec=9031447\n",
      "# ENDS\n",
      "\n"
     ]
    },
    {
     "name": "stderr",
     "output_type": "stream",
     "text": [
      "SC=333395\n",
      "GET file:///Users/wvw/git/pm/ELKG/n3/queries/p2p_long_process.n3 SC=1\n",
      "networking 1296 [msec cputime] 1399 [msec walltime]\n",
      "reasoning 50 [msec cputime] 51 [msec walltime]\n",
      "2024-08-23T14:51:06.692Z in=333442 out=25 ent=25 step=26 brake=1 inf=12391145 sec=1.372 inf/sec=9031447\n",
      "\n"
     ]
    }
   ],
   "source": [
    "# - lengthy process overall \n",
    "# (from initial purchase requisition to final payment)\n",
    "\n",
    "run_query(\"p2p_long_process.n3\")"
   ]
  }
 ],
 "metadata": {
  "kernelspec": {
   "display_name": "base",
   "language": "python",
   "name": "python3"
  },
  "language_info": {
   "codemirror_mode": {
    "name": "ipython",
    "version": 3
   },
   "file_extension": ".py",
   "mimetype": "text/x-python",
   "name": "python",
   "nbconvert_exporter": "python",
   "pygments_lexer": "ipython3",
   "version": "3.11.5"
  },
  "orig_nbformat": 4
 },
 "nbformat": 4,
 "nbformat_minor": 2
}
